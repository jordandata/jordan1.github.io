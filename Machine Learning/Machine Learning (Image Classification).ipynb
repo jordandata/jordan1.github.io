{
 "cells": [
  {
   "cell_type": "markdown",
   "metadata": {},
   "source": [
    "# Problem 4"
   ]
  },
  {
   "cell_type": "markdown",
   "metadata": {},
   "source": [
    "### In this notebook I would like to highlight my visualization, machine learning, and data analysis skills as well as my work using neural networks to perform image classification."
   ]
  },
  {
   "cell_type": "markdown",
   "metadata": {},
   "source": [
    "### The goal of this problem was to create a model that could accurately classify the images that were presented to it (see below)."
   ]
  },
  {
   "cell_type": "code",
   "execution_count": 1,
   "metadata": {},
   "outputs": [],
   "source": [
    "import numpy as np\n",
    "np.random.seed(1337)  # for reproducibility\n",
    "from keras.datasets import mnist\n",
    "from keras.models import Sequential\n",
    "from keras.layers import Dense, Dropout, Activation, Flatten\n",
    "from keras.layers import Convolution2D, MaxPooling2D\n",
    "from keras.utils import np_utils\n",
    "import matplotlib.pyplot as plt"
   ]
  },
  {
   "cell_type": "code",
   "execution_count": 2,
   "metadata": {},
   "outputs": [],
   "source": [
    "(X_train, y_train), (X_test, y_test) = mnist.load_data()"
   ]
  },
  {
   "cell_type": "code",
   "execution_count": 3,
   "metadata": {},
   "outputs": [],
   "source": [
    "batch_size = 256\n",
    "nb_classes = 10\n",
    "nb_epoch = 16\n",
    "\n",
    "# input image dimensions\n",
    "img_rows, img_cols = 28, 28\n",
    "# number of convolutional filters to use\n",
    "nb_filters = 36\n",
    "# size of pooling area for max pooling\n",
    "pool_size = (3, 3)\n",
    "# convolution kernel size\n",
    "kernel_size = 3 #(3, 3)"
   ]
  },
  {
   "cell_type": "code",
   "execution_count": 4,
   "metadata": {},
   "outputs": [],
   "source": [
    "X_train = X_train.reshape(X_train.shape[0], img_rows, img_cols,1)\n",
    "X_test = X_test.reshape(X_test.shape[0], img_rows, img_cols,1)\n",
    "input_shape = (img_rows, img_cols,1)"
   ]
  },
  {
   "cell_type": "code",
   "execution_count": 5,
   "metadata": {},
   "outputs": [
    {
     "name": "stdout",
     "output_type": "stream",
     "text": [
      "X_train shape: (60000, 28, 28, 1)\n",
      "60000 train samples\n",
      "10000 test samples\n"
     ]
    }
   ],
   "source": [
    "X_train = X_train.astype('float32')\n",
    "X_test = X_test.astype('float32')\n",
    "X_train /= 255\n",
    "X_test /= 255\n",
    "print('X_train shape:', X_train.shape)\n",
    "print(X_train.shape[0], 'train samples')\n",
    "print(X_test.shape[0], 'test samples')"
   ]
  },
  {
   "cell_type": "code",
   "execution_count": 6,
   "metadata": {},
   "outputs": [
    {
     "data": {
      "text/plain": [
       "array([5, 0, 4, ..., 5, 6, 8], dtype=uint8)"
      ]
     },
     "execution_count": 6,
     "metadata": {},
     "output_type": "execute_result"
    }
   ],
   "source": [
    "y_train"
   ]
  },
  {
   "cell_type": "code",
   "execution_count": 7,
   "metadata": {},
   "outputs": [],
   "source": [
    "# convert class vectors to binary class matrices\n",
    "Y_train = np_utils.to_categorical(y_train, nb_classes)\n",
    "Y_test = np_utils.to_categorical(y_test, nb_classes)"
   ]
  },
  {
   "cell_type": "code",
   "execution_count": 8,
   "metadata": {},
   "outputs": [
    {
     "data": {
      "text/plain": [
       "array([[0., 0., 0., ..., 1., 0., 0.],\n",
       "       [0., 0., 1., ..., 0., 0., 0.],\n",
       "       [0., 1., 0., ..., 0., 0., 0.],\n",
       "       ...,\n",
       "       [0., 0., 0., ..., 0., 0., 0.],\n",
       "       [0., 0., 0., ..., 0., 0., 0.],\n",
       "       [0., 0., 0., ..., 0., 0., 0.]], dtype=float32)"
      ]
     },
     "execution_count": 8,
     "metadata": {},
     "output_type": "execute_result"
    }
   ],
   "source": [
    "Y_test"
   ]
  },
  {
   "cell_type": "code",
   "execution_count": 9,
   "metadata": {},
   "outputs": [
    {
     "data": {
      "image/png": "[encoded data removed]",
      "text/plain": [
       "<Figure size 432x288 with 1 Axes>"
      ]
     },
     "metadata": {
      "needs_background": "light"
     },
     "output_type": "display_data"
    }
   ],
   "source": [
    "plt.imshow(X_train[5999][:,:,:]);"
   ]
  },
  {
   "cell_type": "code",
   "execution_count": 10,
   "metadata": {},
   "outputs": [
    {
     "data": {
      "image/png": "[encoded data removed]",
      "text/plain": [
       "<Figure size 432x288 with 1 Axes>"
      ]
     },
     "metadata": {
      "needs_background": "light"
     },
     "output_type": "display_data"
    }
   ],
   "source": [
    "plt.imshow(X_test[500][:,:,:]);"
   ]
  },
  {
   "cell_type": "code",
   "execution_count": 11,
   "metadata": {},
   "outputs": [],
   "source": [
    "# Creating Model that is different than class example"
   ]
  },
  {
   "cell_type": "code",
   "execution_count": null,
   "metadata": {},
   "outputs": [],
   "source": [
    "def reset_weights(model):\n",
    "\t\"\"\"This function re-initializes model weights at each compile\"\"\"\n",
    "\tfor layer in model.layers: \n",
    "\t\tif isinstance(layer, tf.keras.Model):\n",
    "\t\t\treset_weights(layer)\n",
    "\t\t\tcontinue\n",
    "\tfor k, initializer in layer.__dict__.items():\n",
    "\t\tif \"initializer\" not in k:\n",
    "\t\t\tcontinue\n",
    "\t\t# find the corresponding variable\n",
    "\t\tvar = getattr(layer, k.replace(\"_initializer\", \"\"))\n",
    "\t\tvar.assign(initializer(var.shape, var.dtype))\n"
   ]
  },
  {
   "cell_type": "code",
   "execution_count": 12,
   "metadata": {},
   "outputs": [],
   "source": [
    "model = Sequential()\n",
    "\n",
    "model.add(Convolution2D(nb_filters, kernel_size,\n",
    "                        padding='same',\n",
    "                        input_shape=input_shape))\n",
    "model.add(Activation('relu'))\n",
    "model.add(Convolution2D(nb_filters, kernel_size))\n",
    "model.add(Activation('relu'))\n",
    "model.add(MaxPooling2D(pool_size=pool_size))\n",
    "\n",
    "model.add(Flatten())\n",
    "model.add(Dense(256))\n",
    "model.add(Activation('relu'))\n",
    "model.add(Dense(nb_classes))\n",
    "model.add(Activation('softmax'))\n",
    "\n",
    "model.compile(loss='categorical_crossentropy',\n",
    "              optimizer='adadelta',\n",
    "              metrics=['accuracy'])"
   ]
  },
  {
   "cell_type": "code",
   "execution_count": null,
   "metadata": {},
   "outputs": [],
   "source": []
  },
  {
   "cell_type": "code",
   "execution_count": 13,
   "metadata": {},
   "outputs": [
    {
     "name": "stdout",
     "output_type": "stream",
     "text": [
      "Epoch 1/16\n",
      "235/235 [==============================] - 34s 144ms/step - loss: 2.3096 - accuracy: 0.1074 - val_loss: 2.2834 - val_accuracy: 0.1640\n",
      "Epoch 2/16\n",
      "235/235 [==============================] - 35s 147ms/step - loss: 2.2947 - accuracy: 0.1246 - val_loss: 2.2649 - val_accuracy: 0.2026\n",
      "Epoch 3/16\n",
      "235/235 [==============================] - 35s 148ms/step - loss: 2.2772 - accuracy: 0.1435 - val_loss: 2.2464 - val_accuracy: 0.2662\n",
      "Epoch 4/16\n",
      "235/235 [==============================] - 35s 147ms/step - loss: 2.2626 - accuracy: 0.1610 - val_loss: 2.2278 - val_accuracy: 0.3493\n",
      "Epoch 5/16\n",
      "235/235 [==============================] - 34s 145ms/step - loss: 2.2456 - accuracy: 0.1846 - val_loss: 2.2085 - val_accuracy: 0.4085\n",
      "Epoch 6/16\n",
      "235/235 [==============================] - 34s 145ms/step - loss: 2.2287 - accuracy: 0.2046 - val_loss: 2.1882 - val_accuracy: 0.4668\n",
      "Epoch 7/16\n",
      "235/235 [==============================] - 34s 146ms/step - loss: 2.2121 - accuracy: 0.2239 - val_loss: 2.1668 - val_accuracy: 0.5112\n",
      "Epoch 8/16\n",
      "235/235 [==============================] - 34s 146ms/step - loss: 2.1935 - accuracy: 0.2441 - val_loss: 2.1437 - val_accuracy: 0.5568\n",
      "Epoch 9/16\n",
      "235/235 [==============================] - 34s 146ms/step - loss: 2.1765 - accuracy: 0.2646 - val_loss: 2.1186 - val_accuracy: 0.5945\n",
      "Epoch 10/16\n",
      "235/235 [==============================] - 34s 146ms/step - loss: 2.1515 - accuracy: 0.2906 - val_loss: 2.0909 - val_accuracy: 0.6225\n",
      "Epoch 11/16\n",
      "235/235 [==============================] - 35s 148ms/step - loss: 2.1328 - accuracy: 0.3084 - val_loss: 2.0608 - val_accuracy: 0.6433\n",
      "Epoch 12/16\n",
      "235/235 [==============================] - 35s 149ms/step - loss: 2.1072 - accuracy: 0.3283 - val_loss: 2.0277 - val_accuracy: 0.6607\n",
      "Epoch 13/16\n",
      "235/235 [==============================] - 35s 147ms/step - loss: 2.0799 - accuracy: 0.3452 - val_loss: 1.9917 - val_accuracy: 0.6746\n",
      "Epoch 14/16\n",
      "235/235 [==============================] - 34s 147ms/step - loss: 2.0502 - accuracy: 0.3717 - val_loss: 1.9521 - val_accuracy: 0.6858\n",
      "Epoch 15/16\n",
      "235/235 [==============================] - 35s 148ms/step - loss: 2.0210 - accuracy: 0.3848 - val_loss: 1.9091 - val_accuracy: 0.6950\n",
      "Epoch 16/16\n",
      "235/235 [==============================] - 34s 146ms/step - loss: 1.9854 - accuracy: 0.4020 - val_loss: 1.8624 - val_accuracy: 0.7019\n"
     ]
    }
   ],
   "source": [
    "# train model\n",
    "history = model.fit(X_train, Y_train, batch_size=batch_size, epochs=nb_epoch,\n",
    "          verbose=1, validation_data=(X_test, Y_test))"
   ]
  },
  {
   "cell_type": "code",
   "execution_count": 14,
   "metadata": {},
   "outputs": [
    {
     "name": "stdout",
     "output_type": "stream",
     "text": [
      "Test score: 1.8624216318130493\n",
      "Test accuracy: 0.7019000053405762\n"
     ]
    }
   ],
   "source": [
    "score = model.evaluate(X_test, Y_test, verbose=0)\n",
    "print('Test score:', score[0])\n",
    "print('Test accuracy:', score[1])"
   ]
  },
  {
   "cell_type": "code",
   "execution_count": 15,
   "metadata": {},
   "outputs": [
    {
     "name": "stdout",
     "output_type": "stream",
     "text": [
      "Model: \"sequential\"\n",
      "_________________________________________________________________\n",
      "Layer (type)                 Output Shape              Param #   \n",
      "=================================================================\n",
      "conv2d (Conv2D)              (None, 28, 28, 36)        360       \n",
      "_________________________________________________________________\n",
      "activation (Activation)      (None, 28, 28, 36)        0         \n",
      "_________________________________________________________________\n",
      "conv2d_1 (Conv2D)            (None, 26, 26, 36)        11700     \n",
      "_________________________________________________________________\n",
      "activation_1 (Activation)    (None, 26, 26, 36)        0         \n",
      "_________________________________________________________________\n",
      "max_pooling2d (MaxPooling2D) (None, 8, 8, 36)          0         \n",
      "_________________________________________________________________\n",
      "dropout (Dropout)            (None, 8, 8, 36)          0         \n",
      "_________________________________________________________________\n",
      "flatten (Flatten)            (None, 2304)              0         \n",
      "_________________________________________________________________\n",
      "dense (Dense)                (None, 256)               590080    \n",
      "_________________________________________________________________\n",
      "activation_2 (Activation)    (None, 256)               0         \n",
      "_________________________________________________________________\n",
      "dropout_1 (Dropout)          (None, 256)               0         \n",
      "_________________________________________________________________\n",
      "dense_1 (Dense)              (None, 10)                2570      \n",
      "_________________________________________________________________\n",
      "activation_3 (Activation)    (None, 10)                0         \n",
      "=================================================================\n",
      "Total params: 604,710\n",
      "Trainable params: 604,710\n",
      "Non-trainable params: 0\n",
      "_________________________________________________________________\n"
     ]
    }
   ],
   "source": [
    "model.summary()"
   ]
  },
  {
   "cell_type": "markdown",
   "metadata": {},
   "source": [
    "### (a)"
   ]
  },
  {
   "cell_type": "code",
   "execution_count": 16,
   "metadata": {},
   "outputs": [
    {
     "data": {
      "image/png": "[encoded data removed]",
      "text/plain": [
       "<Figure size 432x288 with 1 Axes>"
      ]
     },
     "metadata": {
      "needs_background": "light"
     },
     "output_type": "display_data"
    }
   ],
   "source": [
    "plt.plot(history.history['accuracy'])\n",
    "plt.plot(history.history['val_accuracy'])\n",
    "plt.title('model accuracy')\n",
    "plt.ylabel('accuracy')\n",
    "plt.xlabel('epoch')\n",
    "plt.legend(['train', 'test'], loc='upper left')\n",
    "plt.show()"
   ]
  },
  {
   "cell_type": "markdown",
   "metadata": {},
   "source": [
    "### (b)"
   ]
  },
  {
   "cell_type": "code",
   "execution_count": 17,
   "metadata": {},
   "outputs": [],
   "source": [
    "from sklearn.metrics import classification_report, confusion_matrix\n",
    "from sklearn.metrics import multilabel_confusion_matrix"
   ]
  },
  {
   "cell_type": "code",
   "execution_count": 18,
   "metadata": {},
   "outputs": [
    {
     "name": "stdout",
     "output_type": "stream",
     "text": [
      "157/157 [==============================] - 2s 12ms/step\n"
     ]
    }
   ],
   "source": [
    "y_pred = model.predict(X_test, batch_size=64, verbose=1)"
   ]
  },
  {
   "cell_type": "code",
   "execution_count": 19,
   "metadata": {},
   "outputs": [],
   "source": [
    "y_pred_bool = np.argmax(y_pred, axis=1)"
   ]
  },
  {
   "cell_type": "code",
   "execution_count": 20,
   "metadata": {},
   "outputs": [
    {
     "name": "stdout",
     "output_type": "stream",
     "text": [
      "              precision    recall  f1-score   support\n",
      "\n",
      "           0       0.55      0.96      0.70       980\n",
      "           1       0.87      0.95      0.91      1135\n",
      "           2       0.84      0.68      0.75      1032\n",
      "           3       0.65      0.85      0.74      1010\n",
      "           4       0.87      0.50      0.63       982\n",
      "           5       0.94      0.06      0.11       892\n",
      "           6       0.78      0.77      0.78       958\n",
      "           7       0.78      0.82      0.80      1028\n",
      "           8       0.64      0.62      0.63       974\n",
      "           9       0.54      0.70      0.61      1009\n",
      "\n",
      "    accuracy                           0.70     10000\n",
      "   macro avg       0.75      0.69      0.67     10000\n",
      "weighted avg       0.75      0.70      0.68     10000\n",
      "\n"
     ]
    }
   ],
   "source": [
    "print(classification_report(y_test, y_pred_bool))"
   ]
  },
  {
   "cell_type": "markdown",
   "metadata": {},
   "source": [
    "### (c)"
   ]
  },
  {
   "cell_type": "code",
   "execution_count": 21,
   "metadata": {},
   "outputs": [
    {
     "name": "stdout",
     "output_type": "stream",
     "text": [
      "[[[8257  763]\n",
      "  [  38  942]]\n",
      "\n",
      " [[8703  162]\n",
      "  [  57 1078]]\n",
      "\n",
      " [[8834  134]\n",
      "  [ 331  701]]\n",
      "\n",
      " [[8533  457]\n",
      "  [ 151  859]]\n",
      "\n",
      " [[8945   73]\n",
      "  [ 494  488]]\n",
      "\n",
      " [[9105    3]\n",
      "  [ 841   51]]\n",
      "\n",
      " [[8832  210]\n",
      "  [ 216  742]]\n",
      "\n",
      " [[8733  239]\n",
      "  [ 182  846]]\n",
      "\n",
      " [[8693  333]\n",
      "  [ 369  605]]\n",
      "\n",
      " [[8384  607]\n",
      "  [ 302  707]]]\n"
     ]
    }
   ],
   "source": [
    "print(multilabel_confusion_matrix(y_test, y_pred_bool))"
   ]
  },
  {
   "cell_type": "markdown",
   "metadata": {},
   "source": [
    "### (d) Including more dropout layers"
   ]
  },
  {
   "cell_type": "code",
   "execution_count": 22,
   "metadata": {},
   "outputs": [],
   "source": [
    "model1 = Sequential()\n",
    "\n",
    "model1.add(Convolution2D(nb_filters, kernel_size,\n",
    "                        padding='same',\n",
    "                        input_shape=input_shape))\n",
    "model1.add(Activation('relu'))\n",
    "model1.add(Convolution2D(nb_filters, kernel_size))\n",
    "model1.add(Dropout(0.45))\n",
    "model1.add(Activation('relu'))\n",
    "model1.add(MaxPooling2D(pool_size=pool_size))\n",
    "model1.add(Dropout(0.4))\n",
    "\n",
    "model1.add(Flatten())\n",
    "model1.add(Dense(128))\n",
    "model1.add(Activation('relu'))\n",
    "model1.add(Dropout(0.5))\n",
    "model1.add(Dense(nb_classes))\n",
    "model1.add(Activation('softmax'))\n",
    "\n",
    "model1.compile(loss='categorical_crossentropy',\n",
    "              optimizer='adadelta',\n",
    "              metrics=['accuracy'])"
   ]
  },
  {
   "cell_type": "code",
   "execution_count": 23,
   "metadata": {},
   "outputs": [
    {
     "name": "stdout",
     "output_type": "stream",
     "text": [
      "Epoch 1/16\n",
      "235/235 [==============================] - 34s 144ms/step - loss: 1.9384 - accuracy: 0.4248 - val_loss: 1.8123 - val_accuracy: 0.7097\n",
      "Epoch 2/16\n",
      "235/235 [==============================] - 35s 147ms/step - loss: 1.8991 - accuracy: 0.4412 - val_loss: 1.7588 - val_accuracy: 0.7163\n",
      "Epoch 3/16\n",
      "235/235 [==============================] - 35s 149ms/step - loss: 1.8557 - accuracy: 0.4562 - val_loss: 1.7018 - val_accuracy: 0.7228\n",
      "Epoch 4/16\n",
      "235/235 [==============================] - 34s 145ms/step - loss: 1.8120 - accuracy: 0.4680 - val_loss: 1.6422 - val_accuracy: 0.7299\n",
      "Epoch 5/16\n",
      "235/235 [==============================] - 34s 145ms/step - loss: 1.7670 - accuracy: 0.4815 - val_loss: 1.5807 - val_accuracy: 0.7383\n",
      "Epoch 6/16\n",
      "235/235 [==============================] - 34s 144ms/step - loss: 1.7238 - accuracy: 0.4902 - val_loss: 1.5181 - val_accuracy: 0.7455\n",
      "Epoch 7/16\n",
      "235/235 [==============================] - 34s 145ms/step - loss: 1.6788 - accuracy: 0.5045 - val_loss: 1.4551 - val_accuracy: 0.7520\n",
      "Epoch 8/16\n",
      "235/235 [==============================] - 36s 154ms/step - loss: 1.6265 - accuracy: 0.5164 - val_loss: 1.3922 - val_accuracy: 0.7574\n",
      "Epoch 9/16\n",
      "235/235 [==============================] - 36s 155ms/step - loss: 1.5884 - accuracy: 0.5235 - val_loss: 1.3314 - val_accuracy: 0.7634\n",
      "Epoch 10/16\n",
      "235/235 [==============================] - 38s 163ms/step - loss: 1.5437 - accuracy: 0.5362 - val_loss: 1.2723 - val_accuracy: 0.7690\n",
      "Epoch 11/16\n",
      "235/235 [==============================] - 37s 156ms/step - loss: 1.5006 - accuracy: 0.5440 - val_loss: 1.2159 - val_accuracy: 0.7740\n",
      "Epoch 12/16\n",
      "235/235 [==============================] - 37s 156ms/step - loss: 1.4591 - accuracy: 0.5557 - val_loss: 1.1626 - val_accuracy: 0.7786\n",
      "Epoch 13/16\n",
      "235/235 [==============================] - 36s 154ms/step - loss: 1.4179 - accuracy: 0.5616 - val_loss: 1.1120 - val_accuracy: 0.7853\n",
      "Epoch 14/16\n",
      "235/235 [==============================] - 36s 153ms/step - loss: 1.3831 - accuracy: 0.5726 - val_loss: 1.0651 - val_accuracy: 0.7889\n",
      "Epoch 15/16\n",
      "235/235 [==============================] - 35s 149ms/step - loss: 1.3476 - accuracy: 0.5810 - val_loss: 1.0215 - val_accuracy: 0.7927\n",
      "Epoch 16/16\n",
      "235/235 [==============================] - 35s 148ms/step - loss: 1.3133 - accuracy: 0.5887 - val_loss: 0.9809 - val_accuracy: 0.7973\n"
     ]
    }
   ],
   "source": [
    "history = model.fit(X_train, Y_train, batch_size=batch_size, epochs=nb_epoch,\n",
    "          verbose=1, validation_data=(X_test, Y_test))"
   ]
  },
  {
   "cell_type": "markdown",
   "metadata": {},
   "source": [
    "### After some experimentation with this dropout function, the model is definitely performing better, I used values between 0.1-0.5. It is interesting to see an improvement in the accuracy of the model, as the dropout is  randomly selected neurons to be ignored during training. This ensures that the model doesn't become too specialized to the training data. The final accuracy was 0.797 which is better than the previous model which had a test accuracy of 0.7019"
   ]
  },
  {
   "cell_type": "code",
   "execution_count": null,
   "metadata": {},
   "outputs": [],
   "source": []
  }
 ],
 "metadata": {
  "kernelspec": {
   "display_name": "Python 3",
   "language": "python",
   "name": "python3"
  },
  "language_info": {
   "codemirror_mode": {
    "name": "ipython",
    "version": 3
   },
   "file_extension": ".py",
   "mimetype": "text/x-python",
   "name": "python",
   "nbconvert_exporter": "python",
   "pygments_lexer": "ipython3",
   "version": "3.8.5"
  }
 },
 "nbformat": 4,
 "nbformat_minor": 4
}

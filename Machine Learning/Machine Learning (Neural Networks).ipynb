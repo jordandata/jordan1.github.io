{
 "cells": [
  {
   "cell_type": "markdown",
   "metadata": {},
   "source": [
    "# Problem 3 "
   ]
  },
  {
   "cell_type": "markdown",
   "metadata": {},
   "source": [
    "### In this notebook I would like to highlight my visualization, machine learning, and data analysis skills as well as my work with artifical neural networks."
   ]
  },
  {
   "cell_type": "markdown",
   "metadata": {},
   "source": [
    "### The goal of this problem was to use neural networks to predict a value in a california housing data set"
   ]
  },
  {
   "cell_type": "markdown",
   "metadata": {},
   "source": [
    "## Part a"
   ]
  },
  {
   "cell_type": "code",
   "execution_count": null,
   "metadata": {},
   "outputs": [],
   "source": [
    "#pip install tensorflow"
   ]
  },
  {
   "cell_type": "code",
   "execution_count": 16,
   "metadata": {
    "collapsed": true,
    "jupyter": {
     "outputs_hidden": true
    }
   },
   "outputs": [
    {
     "name": "stdout",
     "output_type": "stream",
     "text": [
      "Collecting plot-ann\n",
      "  Downloading plot_ann-1.1.3-py3-none-any.whl (5.1 kB)\n",
      "Requirement already satisfied: matplotlib in /Users/jordanhoward/opt/anaconda3/lib/python3.8/site-packages (from plot-ann) (3.3.2)\n",
      "Requirement already satisfied: numpy in /Users/jordanhoward/opt/anaconda3/lib/python3.8/site-packages (from plot-ann) (1.19.2)\n",
      "Requirement already satisfied: kiwisolver>=1.0.1 in /Users/jordanhoward/opt/anaconda3/lib/python3.8/site-packages (from matplotlib->plot-ann) (1.3.0)\n",
      "Requirement already satisfied: cycler>=0.10 in /Users/jordanhoward/opt/anaconda3/lib/python3.8/site-packages (from matplotlib->plot-ann) (0.10.0)\n",
      "Requirement already satisfied: pillow>=6.2.0 in /Users/jordanhoward/opt/anaconda3/lib/python3.8/site-packages (from matplotlib->plot-ann) (8.0.1)\n",
      "Requirement already satisfied: certifi>=2020.06.20 in /Users/jordanhoward/opt/anaconda3/lib/python3.8/site-packages (from matplotlib->plot-ann) (2020.6.20)\n",
      "Requirement already satisfied: python-dateutil>=2.1 in /Users/jordanhoward/opt/anaconda3/lib/python3.8/site-packages (from matplotlib->plot-ann) (2.8.1)\n",
      "Requirement already satisfied: pyparsing!=2.0.4,!=2.1.2,!=2.1.6,>=2.0.3 in /Users/jordanhoward/opt/anaconda3/lib/python3.8/site-packages (from matplotlib->plot-ann) (2.4.7)\n",
      "Requirement already satisfied: six in /Users/jordanhoward/opt/anaconda3/lib/python3.8/site-packages (from cycler>=0.10->matplotlib->plot-ann) (1.15.0)\n",
      "Installing collected packages: plot-ann\n",
      "Successfully installed plot-ann-1.1.3\n",
      "Note: you may need to restart the kernel to use updated packages.\n"
     ]
    }
   ],
   "source": [
    "#pip install plot-ann"
   ]
  },
  {
   "cell_type": "code",
   "execution_count": null,
   "metadata": {},
   "outputs": [],
   "source": [
    "#pip install ann_visualizer"
   ]
  },
  {
   "cell_type": "code",
   "execution_count": 1,
   "metadata": {},
   "outputs": [],
   "source": [
    "#pip install graphviz"
   ]
  },
  {
   "cell_type": "code",
   "execution_count": 2,
   "metadata": {},
   "outputs": [],
   "source": [
    "#pip install keras"
   ]
  },
  {
   "cell_type": "code",
   "execution_count": 2,
   "metadata": {},
   "outputs": [],
   "source": [
    "import matplotlib.pyplot as plt\n",
    "import numpy as np\n",
    "import pandas as pd\n",
    "import seaborn as sns\n",
    "\n",
    "from sklearn.model_selection import train_test_split\n",
    "from sklearn import svm, datasets\n",
    "from sklearn.metrics import classification_report, confusion_matrix\n",
    "from sklearn.preprocessing import scale\n",
    "\n",
    "import tensorflow as tf\n",
    "from tensorflow import keras\n",
    "from tensorflow.keras import layers, Input\n",
    "from tensorflow.keras.layers.experimental import preprocessing\n",
    "from tensorflow.keras import backend as K\n",
    "from keras.models import Sequential\n",
    "from keras.layers import Dense"
   ]
  },
  {
   "cell_type": "code",
   "execution_count": 9,
   "metadata": {},
   "outputs": [],
   "source": [
    "def reset_weights(model):\n",
    "\t\"\"\"This function re-initializes model weights at each compile\"\"\"\n",
    "\tfor layer in model.layers: \n",
    "\t\tif isinstance(layer, tf.keras.Model):\n",
    "\t\t\treset_weights(layer)\n",
    "\t\t\tcontinue\n",
    "\tfor k, initializer in layer.__dict__.items():\n",
    "\t\tif \"initializer\" not in k:\n",
    "\t\t\tcontinue\n",
    "\t\t# find the corresponding variable\n",
    "\t\tvar = getattr(layer, k.replace(\"_initializer\", \"\"))\n",
    "\t\tvar.assign(initializer(var.shape, var.dtype))\n"
   ]
  },
  {
   "cell_type": "code",
   "execution_count": 3,
   "metadata": {},
   "outputs": [],
   "source": [
    "from sklearn.datasets import fetch_california_housing"
   ]
  },
  {
   "cell_type": "code",
   "execution_count": 4,
   "metadata": {},
   "outputs": [],
   "source": [
    "X, y =datasets.fetch_california_housing(return_X_y=True, as_frame=True)\n",
    "X = scale(X)"
   ]
  },
  {
   "cell_type": "code",
   "execution_count": 6,
   "metadata": {},
   "outputs": [
    {
     "data": {
      "text/plain": [
       "array([[ 2.34476576,  0.98214266,  0.62855945, ..., -0.04959654,\n",
       "         1.05254828, -1.32783522],\n",
       "       [ 2.33223796, -0.60701891,  0.32704136, ..., -0.09251223,\n",
       "         1.04318455, -1.32284391],\n",
       "       [ 1.7826994 ,  1.85618152,  1.15562047, ..., -0.02584253,\n",
       "         1.03850269, -1.33282653],\n",
       "       ...,\n",
       "       [-1.14259331, -0.92485123, -0.09031802, ..., -0.0717345 ,\n",
       "         1.77823747, -0.8237132 ],\n",
       "       [-1.05458292, -0.84539315, -0.04021111, ..., -0.09122515,\n",
       "         1.77823747, -0.87362627],\n",
       "       [-0.78012947, -1.00430931, -0.07044252, ..., -0.04368215,\n",
       "         1.75014627, -0.83369581]])"
      ]
     },
     "execution_count": 6,
     "metadata": {},
     "output_type": "execute_result"
    }
   ],
   "source": [
    "X"
   ]
  },
  {
   "cell_type": "code",
   "execution_count": 13,
   "metadata": {},
   "outputs": [],
   "source": [
    "X_train, X_test, y_train, y_test = train_test_split(X, y, test_size = .2, random_state = 1)"
   ]
  },
  {
   "cell_type": "code",
   "execution_count": 14,
   "metadata": {},
   "outputs": [],
   "source": [
    "model = Sequential()\n",
    "\n",
    "model.add(Dense(64, input_dim=8, activation='relu'))\n",
    "model.add(Dense(64, activation='relu'))\n",
    "model.add(Dense(1))"
   ]
  },
  {
   "cell_type": "code",
   "execution_count": 15,
   "metadata": {},
   "outputs": [],
   "source": [
    "# Compile model\n",
    "reset_weights(model)\n",
    "model.compile(loss='mean_absolute_error', optimizer=keras.optimizers.SGD(0.001), metrics=['accuracy'])"
   ]
  },
  {
   "cell_type": "code",
   "execution_count": 16,
   "metadata": {
    "collapsed": true,
    "jupyter": {
     "outputs_hidden": true
    }
   },
   "outputs": [
    {
     "name": "stdout",
     "output_type": "stream",
     "text": [
      "Epoch 1/50\n",
      "194/194 [==============================] - 1s 2ms/step - loss: 1.8612 - accuracy: 2.7065e-04 - val_loss: 1.3904 - val_accuracy: 0.0024\n",
      "Epoch 2/50\n",
      "194/194 [==============================] - 0s 929us/step - loss: 1.2935 - accuracy: 0.0031 - val_loss: 1.0160 - val_accuracy: 0.0027\n",
      "Epoch 3/50\n",
      "194/194 [==============================] - 0s 883us/step - loss: 0.9509 - accuracy: 0.0032 - val_loss: 0.8350 - val_accuracy: 0.0027\n",
      "Epoch 4/50\n",
      "194/194 [==============================] - 0s 851us/step - loss: 0.8062 - accuracy: 0.0029 - val_loss: 0.7378 - val_accuracy: 0.0027\n",
      "Epoch 5/50\n",
      "194/194 [==============================] - 0s 814us/step - loss: 0.7056 - accuracy: 0.0028 - val_loss: 0.6719 - val_accuracy: 0.0027\n",
      "Epoch 6/50\n",
      "194/194 [==============================] - 0s 807us/step - loss: 0.6621 - accuracy: 0.0032 - val_loss: 0.6279 - val_accuracy: 0.0027\n",
      "Epoch 7/50\n",
      "194/194 [==============================] - 0s 802us/step - loss: 0.6250 - accuracy: 0.0040 - val_loss: 0.5980 - val_accuracy: 0.0027\n",
      "Epoch 8/50\n",
      "194/194 [==============================] - 0s 823us/step - loss: 0.5976 - accuracy: 0.0033 - val_loss: 0.5781 - val_accuracy: 0.0027\n",
      "Epoch 9/50\n",
      "194/194 [==============================] - 0s 776us/step - loss: 0.5762 - accuracy: 0.0037 - val_loss: 0.5628 - val_accuracy: 0.0027\n",
      "Epoch 10/50\n",
      "194/194 [==============================] - 0s 979us/step - loss: 0.5711 - accuracy: 0.0035 - val_loss: 0.5517 - val_accuracy: 0.0027\n",
      "Epoch 11/50\n",
      "194/194 [==============================] - 0s 899us/step - loss: 0.5524 - accuracy: 0.0036 - val_loss: 0.5434 - val_accuracy: 0.0027\n",
      "Epoch 12/50\n",
      "194/194 [==============================] - 0s 906us/step - loss: 0.5410 - accuracy: 0.0024 - val_loss: 0.5369 - val_accuracy: 0.0027\n",
      "Epoch 13/50\n",
      "194/194 [==============================] - 0s 884us/step - loss: 0.5463 - accuracy: 0.0025 - val_loss: 0.5312 - val_accuracy: 0.0027\n",
      "Epoch 14/50\n",
      "194/194 [==============================] - 0s 894us/step - loss: 0.5365 - accuracy: 0.0032 - val_loss: 0.5266 - val_accuracy: 0.0027\n",
      "Epoch 15/50\n",
      "194/194 [==============================] - 0s 876us/step - loss: 0.5286 - accuracy: 0.0035 - val_loss: 0.5224 - val_accuracy: 0.0027\n",
      "Epoch 16/50\n",
      "194/194 [==============================] - 0s 873us/step - loss: 0.5275 - accuracy: 0.0031 - val_loss: 0.5186 - val_accuracy: 0.0027\n",
      "Epoch 17/50\n",
      "194/194 [==============================] - 0s 854us/step - loss: 0.5159 - accuracy: 0.0031 - val_loss: 0.5152 - val_accuracy: 0.0027\n",
      "Epoch 18/50\n",
      "194/194 [==============================] - 0s 868us/step - loss: 0.5198 - accuracy: 0.0034 - val_loss: 0.5119 - val_accuracy: 0.0027\n",
      "Epoch 19/50\n",
      "194/194 [==============================] - 0s 819us/step - loss: 0.5156 - accuracy: 0.0030 - val_loss: 0.5088 - val_accuracy: 0.0027\n",
      "Epoch 20/50\n",
      "194/194 [==============================] - 0s 845us/step - loss: 0.5016 - accuracy: 0.0022 - val_loss: 0.5060 - val_accuracy: 0.0027\n",
      "Epoch 21/50\n",
      "194/194 [==============================] - 0s 954us/step - loss: 0.5063 - accuracy: 0.0033 - val_loss: 0.5031 - val_accuracy: 0.0027\n",
      "Epoch 22/50\n",
      "194/194 [==============================] - 0s 833us/step - loss: 0.5072 - accuracy: 0.0027 - val_loss: 0.5007 - val_accuracy: 0.0027\n",
      "Epoch 23/50\n",
      "194/194 [==============================] - 0s 871us/step - loss: 0.5039 - accuracy: 0.0033 - val_loss: 0.4985 - val_accuracy: 0.0027\n",
      "Epoch 24/50\n",
      "194/194 [==============================] - 0s 902us/step - loss: 0.5055 - accuracy: 0.0034 - val_loss: 0.4961 - val_accuracy: 0.0027\n",
      "Epoch 25/50\n",
      "194/194 [==============================] - 0s 877us/step - loss: 0.4941 - accuracy: 0.0035 - val_loss: 0.4942 - val_accuracy: 0.0027\n",
      "Epoch 26/50\n",
      "194/194 [==============================] - 0s 748us/step - loss: 0.4987 - accuracy: 0.0028 - val_loss: 0.4927 - val_accuracy: 0.0027\n",
      "Epoch 27/50\n",
      "194/194 [==============================] - 0s 776us/step - loss: 0.4934 - accuracy: 0.0033 - val_loss: 0.4910 - val_accuracy: 0.0027\n",
      "Epoch 28/50\n",
      "194/194 [==============================] - 0s 2ms/step - loss: 0.4860 - accuracy: 0.0034 - val_loss: 0.4888 - val_accuracy: 0.0027\n",
      "Epoch 29/50\n",
      "194/194 [==============================] - 0s 1ms/step - loss: 0.4919 - accuracy: 0.0042 - val_loss: 0.4872 - val_accuracy: 0.0027\n",
      "Epoch 30/50\n",
      "194/194 [==============================] - 0s 935us/step - loss: 0.4942 - accuracy: 0.0038 - val_loss: 0.4855 - val_accuracy: 0.0027\n",
      "Epoch 31/50\n",
      "194/194 [==============================] - 0s 842us/step - loss: 0.4834 - accuracy: 0.0034 - val_loss: 0.4842 - val_accuracy: 0.0027\n",
      "Epoch 32/50\n",
      "194/194 [==============================] - 0s 833us/step - loss: 0.4931 - accuracy: 0.0030 - val_loss: 0.4830 - val_accuracy: 0.0027\n",
      "Epoch 33/50\n",
      "194/194 [==============================] - 0s 766us/step - loss: 0.4846 - accuracy: 0.0036 - val_loss: 0.4815 - val_accuracy: 0.0027\n",
      "Epoch 34/50\n",
      "194/194 [==============================] - 0s 748us/step - loss: 0.4765 - accuracy: 0.0035 - val_loss: 0.4805 - val_accuracy: 0.0027\n",
      "Epoch 35/50\n",
      "194/194 [==============================] - 0s 770us/step - loss: 0.4747 - accuracy: 0.0035 - val_loss: 0.4793 - val_accuracy: 0.0027\n",
      "Epoch 36/50\n",
      "194/194 [==============================] - 0s 809us/step - loss: 0.4891 - accuracy: 0.0026 - val_loss: 0.4786 - val_accuracy: 0.0027\n",
      "Epoch 37/50\n",
      "194/194 [==============================] - 0s 779us/step - loss: 0.4778 - accuracy: 0.0032 - val_loss: 0.4775 - val_accuracy: 0.0027\n",
      "Epoch 38/50\n",
      "194/194 [==============================] - 0s 752us/step - loss: 0.4748 - accuracy: 0.0028 - val_loss: 0.4768 - val_accuracy: 0.0027\n",
      "Epoch 39/50\n",
      "194/194 [==============================] - 0s 753us/step - loss: 0.4739 - accuracy: 0.0028 - val_loss: 0.4759 - val_accuracy: 0.0027\n",
      "Epoch 40/50\n",
      "194/194 [==============================] - 0s 754us/step - loss: 0.4785 - accuracy: 0.0028 - val_loss: 0.4752 - val_accuracy: 0.0027\n",
      "Epoch 41/50\n",
      "194/194 [==============================] - 0s 766us/step - loss: 0.4705 - accuracy: 0.0028 - val_loss: 0.4745 - val_accuracy: 0.0027\n",
      "Epoch 42/50\n",
      "194/194 [==============================] - 0s 764us/step - loss: 0.4634 - accuracy: 0.0032 - val_loss: 0.4738 - val_accuracy: 0.0027\n",
      "Epoch 43/50\n",
      "194/194 [==============================] - 0s 769us/step - loss: 0.4761 - accuracy: 0.0041 - val_loss: 0.4730 - val_accuracy: 0.0027\n",
      "Epoch 44/50\n",
      "194/194 [==============================] - 0s 752us/step - loss: 0.4766 - accuracy: 0.0026 - val_loss: 0.4723 - val_accuracy: 0.0027\n",
      "Epoch 45/50\n",
      "194/194 [==============================] - 0s 743us/step - loss: 0.4639 - accuracy: 0.0032 - val_loss: 0.4717 - val_accuracy: 0.0027\n",
      "Epoch 46/50\n",
      "194/194 [==============================] - 0s 763us/step - loss: 0.4677 - accuracy: 0.0042 - val_loss: 0.4710 - val_accuracy: 0.0027\n",
      "Epoch 47/50\n",
      "194/194 [==============================] - 0s 824us/step - loss: 0.4751 - accuracy: 0.0036 - val_loss: 0.4703 - val_accuracy: 0.0027\n",
      "Epoch 48/50\n",
      "194/194 [==============================] - 0s 846us/step - loss: 0.4661 - accuracy: 0.0029 - val_loss: 0.4696 - val_accuracy: 0.0027\n",
      "Epoch 49/50\n",
      "194/194 [==============================] - 0s 859us/step - loss: 0.4688 - accuracy: 0.0028 - val_loss: 0.4690 - val_accuracy: 0.0027\n",
      "Epoch 50/50\n",
      "194/194 [==============================] - 0s 917us/step - loss: 0.4715 - accuracy: 0.0031 - val_loss: 0.4686 - val_accuracy: 0.0027\n"
     ]
    }
   ],
   "source": [
    "# Fit the model\n",
    "history = model.fit(X_train, y_train, batch_size = 64, validation_split = 0.25, epochs = 50)"
   ]
  },
  {
   "cell_type": "code",
   "execution_count": 18,
   "metadata": {},
   "outputs": [
    {
     "name": "stdout",
     "output_type": "stream",
     "text": [
      "Model: \"sequential\"\n",
      "_________________________________________________________________\n",
      "Layer (type)                 Output Shape              Param #   \n",
      "=================================================================\n",
      "dense (Dense)                (None, 64)                576       \n",
      "_________________________________________________________________\n",
      "dense_1 (Dense)              (None, 64)                4160      \n",
      "_________________________________________________________________\n",
      "dense_2 (Dense)              (None, 1)                 65        \n",
      "=================================================================\n",
      "Total params: 4,801\n",
      "Trainable params: 4,801\n",
      "Non-trainable params: 0\n",
      "_________________________________________________________________\n"
     ]
    }
   ],
   "source": [
    "model.summary()"
   ]
  },
  {
   "cell_type": "code",
   "execution_count": 19,
   "metadata": {},
   "outputs": [
    {
     "name": "stdout",
     "output_type": "stream",
     "text": [
      "645/645 [==============================] - 1s 695us/step - loss: 0.4672 - accuracy: 0.0030\n"
     ]
    }
   ],
   "source": [
    "scores = model.evaluate(X, y)"
   ]
  },
  {
   "cell_type": "markdown",
   "metadata": {},
   "source": [
    "# (i)"
   ]
  },
  {
   "cell_type": "code",
   "execution_count": 20,
   "metadata": {},
   "outputs": [],
   "source": [
    "from plot_ann import ann"
   ]
  },
  {
   "cell_type": "code",
   "execution_count": 21,
   "metadata": {},
   "outputs": [
    {
     "data": {
      "image/png": "[encoded data removed]",
      "text/plain": [
       "<Figure size 432x288 with 1 Axes>"
      ]
     },
     "metadata": {
      "needs_background": "light"
     },
     "output_type": "display_data"
    }
   ],
   "source": [
    "ax, *_ = ann([8, 64, 64, 1], layer_labels=True)\n",
    "ax.set_aspect('equal')"
   ]
  },
  {
   "cell_type": "markdown",
   "metadata": {},
   "source": [
    "# (ii)"
   ]
  },
  {
   "cell_type": "code",
   "execution_count": 22,
   "metadata": {},
   "outputs": [],
   "source": [
    "def plot_loss(history):\n",
    "  plt.plot(history.history['loss'], label='loss')\n",
    "  plt.plot(history.history['val_loss'], label='val_loss')\n",
    "  #plt.ylim([0, 10])\n",
    "  plt.xlabel('Epoch')\n",
    "  plt.ylabel('Loss')\n",
    "  plt.legend()\n",
    "  plt.grid(True)"
   ]
  },
  {
   "cell_type": "code",
   "execution_count": 23,
   "metadata": {},
   "outputs": [
    {
     "data": {
      "image/png": "[encoded data removed]",
      "text/plain": [
       "<Figure size 432x288 with 1 Axes>"
      ]
     },
     "metadata": {
      "needs_background": "light"
     },
     "output_type": "display_data"
    }
   ],
   "source": [
    "plot_loss(history)"
   ]
  },
  {
   "cell_type": "markdown",
   "metadata": {},
   "source": [
    "### This graph might be helpful to prevent overfitting because it tells us when the model has been sufficiently trained. Once you see the line start to plateau, you know that you are not significantly reducing your validation loss by increasing epochs. "
   ]
  },
  {
   "cell_type": "markdown",
   "metadata": {},
   "source": [
    "# (iii)"
   ]
  },
  {
   "cell_type": "code",
   "execution_count": 24,
   "metadata": {},
   "outputs": [],
   "source": [
    "from sklearn.metrics import r2_score, mean_absolute_error, mean_squared_error"
   ]
  },
  {
   "cell_type": "code",
   "execution_count": 25,
   "metadata": {},
   "outputs": [],
   "source": [
    "y_pred = model.predict(X_test)"
   ]
  },
  {
   "cell_type": "code",
   "execution_count": 26,
   "metadata": {},
   "outputs": [
    {
     "data": {
      "image/png": "[encoded data removed]",
      "text/plain": [
       "<Figure size 432x288 with 1 Axes>"
      ]
     },
     "metadata": {
      "needs_background": "light"
     },
     "output_type": "display_data"
    }
   ],
   "source": [
    "a = plt.axes(aspect='equal')\n",
    "plt.scatter(y_test, y_pred)\n",
    "plt.xlabel('True Values')\n",
    "plt.ylabel('Predictions')\n",
    "lims = [0, 6]\n",
    "plt.xlim(lims)\n",
    "plt.ylim(lims)\n",
    "_ = plt.plot(lims, lims)\n"
   ]
  },
  {
   "cell_type": "code",
   "execution_count": 27,
   "metadata": {},
   "outputs": [
    {
     "data": {
      "text/plain": [
       "0.4976002701431343"
      ]
     },
     "execution_count": 27,
     "metadata": {},
     "output_type": "execute_result"
    }
   ],
   "source": [
    "MSE = mean_squared_error(y_test, y_pred)\n",
    "MSE\n"
   ]
  },
  {
   "cell_type": "markdown",
   "metadata": {},
   "source": [
    "## Part B"
   ]
  },
  {
   "cell_type": "markdown",
   "metadata": {},
   "source": [
    "### Model 1"
   ]
  },
  {
   "cell_type": "markdown",
   "metadata": {},
   "source": [
    "### My thought processes for Model 1 was to see if adding more neurons and an extra layer would lead to overfitting. As seen in the model below the ANN has an extra layer so I was interested to see how this would impact the final results."
   ]
  },
  {
   "cell_type": "code",
   "execution_count": 28,
   "metadata": {},
   "outputs": [
    {
     "data": {
      "image/png": "[encoded data removed]",
      "text/plain": [
       "<Figure size 432x288 with 1 Axes>"
      ]
     },
     "metadata": {
      "needs_background": "light"
     },
     "output_type": "display_data"
    }
   ],
   "source": [
    "ax1, *_ = ann([8, 8, 16, 8, 1], layer_labels=True)\n",
    "ax1.set_aspect('equal')"
   ]
  },
  {
   "cell_type": "code",
   "execution_count": 29,
   "metadata": {},
   "outputs": [],
   "source": [
    "model1 = Sequential()\n",
    "\n",
    "model1.add(Dense(8, input_dim=8, activation='relu'))\n",
    "model1.add(Dense(16, activation='relu'))\n",
    "model1.add(Dense(8, activation='relu'))\n",
    "model1.add(Dense(1))"
   ]
  },
  {
   "cell_type": "code",
   "execution_count": 30,
   "metadata": {},
   "outputs": [],
   "source": [
    "# Compile model\n",
    "reset_weights(model1)\n",
    "model1.compile(loss='mean_absolute_error', optimizer=keras.optimizers.SGD(0.001))"
   ]
  },
  {
   "cell_type": "code",
   "execution_count": 31,
   "metadata": {
    "collapsed": true,
    "jupyter": {
     "outputs_hidden": true
    }
   },
   "outputs": [
    {
     "name": "stdout",
     "output_type": "stream",
     "text": [
      "Epoch 1/50\n",
      "194/194 [==============================] - 0s 1ms/step - loss: 1.9199 - val_loss: 1.5397\n",
      "Epoch 2/50\n",
      "194/194 [==============================] - 0s 832us/step - loss: 1.4634 - val_loss: 1.2142\n",
      "Epoch 3/50\n",
      "194/194 [==============================] - 0s 1ms/step - loss: 1.1919 - val_loss: 1.0708\n",
      "Epoch 4/50\n",
      "194/194 [==============================] - 0s 962us/step - loss: 1.0552 - val_loss: 0.9918\n",
      "Epoch 5/50\n",
      "194/194 [==============================] - 0s 761us/step - loss: 0.9901 - val_loss: 0.9359\n",
      "Epoch 6/50\n",
      "194/194 [==============================] - 0s 829us/step - loss: 0.9325 - val_loss: 0.8885\n",
      "Epoch 7/50\n",
      "194/194 [==============================] - 0s 796us/step - loss: 0.8811 - val_loss: 0.8456\n",
      "Epoch 8/50\n",
      "194/194 [==============================] - 0s 823us/step - loss: 0.8501 - val_loss: 0.8075\n",
      "Epoch 9/50\n",
      "194/194 [==============================] - 0s 845us/step - loss: 0.8033 - val_loss: 0.7750\n",
      "Epoch 10/50\n",
      "194/194 [==============================] - 0s 828us/step - loss: 0.7826 - val_loss: 0.7478\n",
      "Epoch 11/50\n",
      "194/194 [==============================] - 0s 824us/step - loss: 0.7550 - val_loss: 0.7252\n",
      "Epoch 12/50\n",
      "194/194 [==============================] - 0s 766us/step - loss: 0.7180 - val_loss: 0.7068\n",
      "Epoch 13/50\n",
      "194/194 [==============================] - 0s 877us/step - loss: 0.7132 - val_loss: 0.6919\n",
      "Epoch 14/50\n",
      "194/194 [==============================] - 0s 793us/step - loss: 0.7051 - val_loss: 0.6789\n",
      "Epoch 15/50\n",
      "194/194 [==============================] - 0s 749us/step - loss: 0.6934 - val_loss: 0.6677\n",
      "Epoch 16/50\n",
      "194/194 [==============================] - 0s 788us/step - loss: 0.6767 - val_loss: 0.6578\n",
      "Epoch 17/50\n",
      "194/194 [==============================] - 0s 733us/step - loss: 0.6529 - val_loss: 0.6486\n",
      "Epoch 18/50\n",
      "194/194 [==============================] - 0s 750us/step - loss: 0.6437 - val_loss: 0.6401\n",
      "Epoch 19/50\n",
      "194/194 [==============================] - 0s 836us/step - loss: 0.6431 - val_loss: 0.6318\n",
      "Epoch 20/50\n",
      "194/194 [==============================] - 0s 799us/step - loss: 0.6399 - val_loss: 0.6240\n",
      "Epoch 21/50\n",
      "194/194 [==============================] - 0s 737us/step - loss: 0.6299 - val_loss: 0.6164\n",
      "Epoch 22/50\n",
      "194/194 [==============================] - 0s 776us/step - loss: 0.6127 - val_loss: 0.6092\n",
      "Epoch 23/50\n",
      "194/194 [==============================] - 0s 763us/step - loss: 0.6186 - val_loss: 0.6021\n",
      "Epoch 24/50\n",
      "194/194 [==============================] - 0s 750us/step - loss: 0.6096 - val_loss: 0.5956\n",
      "Epoch 25/50\n",
      "194/194 [==============================] - 0s 708us/step - loss: 0.6037 - val_loss: 0.5895\n",
      "Epoch 26/50\n",
      "194/194 [==============================] - 0s 722us/step - loss: 0.5882 - val_loss: 0.5840\n",
      "Epoch 27/50\n",
      "194/194 [==============================] - 0s 765us/step - loss: 0.5924 - val_loss: 0.5786\n",
      "Epoch 28/50\n",
      "194/194 [==============================] - 0s 706us/step - loss: 0.5819 - val_loss: 0.5734\n",
      "Epoch 29/50\n",
      "194/194 [==============================] - 0s 732us/step - loss: 0.5747 - val_loss: 0.5685\n",
      "Epoch 30/50\n",
      "194/194 [==============================] - 0s 724us/step - loss: 0.5655 - val_loss: 0.5640\n",
      "Epoch 31/50\n",
      "194/194 [==============================] - 0s 755us/step - loss: 0.5555 - val_loss: 0.5595\n",
      "Epoch 32/50\n",
      "194/194 [==============================] - 0s 825us/step - loss: 0.5723 - val_loss: 0.5553\n",
      "Epoch 33/50\n",
      "194/194 [==============================] - 0s 733us/step - loss: 0.5595 - val_loss: 0.5513\n",
      "Epoch 34/50\n",
      "194/194 [==============================] - 0s 805us/step - loss: 0.5551 - val_loss: 0.5475\n",
      "Epoch 35/50\n",
      "194/194 [==============================] - 0s 730us/step - loss: 0.5590 - val_loss: 0.5439\n",
      "Epoch 36/50\n",
      "194/194 [==============================] - 0s 792us/step - loss: 0.5442 - val_loss: 0.5404\n",
      "Epoch 37/50\n",
      "194/194 [==============================] - 0s 706us/step - loss: 0.5388 - val_loss: 0.5373\n",
      "Epoch 38/50\n",
      "194/194 [==============================] - 0s 792us/step - loss: 0.5442 - val_loss: 0.5344\n",
      "Epoch 39/50\n",
      "194/194 [==============================] - 0s 768us/step - loss: 0.5333 - val_loss: 0.5318\n",
      "Epoch 40/50\n",
      "194/194 [==============================] - 0s 726us/step - loss: 0.5269 - val_loss: 0.5294\n",
      "Epoch 41/50\n",
      "194/194 [==============================] - 0s 729us/step - loss: 0.5336 - val_loss: 0.5275\n",
      "Epoch 42/50\n",
      "194/194 [==============================] - 0s 721us/step - loss: 0.5344 - val_loss: 0.5255\n",
      "Epoch 43/50\n",
      "194/194 [==============================] - 0s 796us/step - loss: 0.5310 - val_loss: 0.5235\n",
      "Epoch 44/50\n",
      "194/194 [==============================] - 0s 705us/step - loss: 0.5292 - val_loss: 0.5213\n",
      "Epoch 45/50\n",
      "194/194 [==============================] - 0s 764us/step - loss: 0.5302 - val_loss: 0.5197\n",
      "Epoch 46/50\n",
      "194/194 [==============================] - 0s 792us/step - loss: 0.5148 - val_loss: 0.5178\n",
      "Epoch 47/50\n",
      "194/194 [==============================] - 0s 890us/step - loss: 0.5366 - val_loss: 0.5164\n",
      "Epoch 48/50\n",
      "194/194 [==============================] - 0s 729us/step - loss: 0.5238 - val_loss: 0.5149\n",
      "Epoch 49/50\n",
      "194/194 [==============================] - 0s 705us/step - loss: 0.5124 - val_loss: 0.5134\n",
      "Epoch 50/50\n",
      "194/194 [==============================] - 0s 801us/step - loss: 0.5216 - val_loss: 0.5119\n"
     ]
    }
   ],
   "source": [
    "history1 = model1.fit(X_train, y_train, batch_size = 64, validation_split = 0.25, epochs = 50)"
   ]
  },
  {
   "cell_type": "code",
   "execution_count": 32,
   "metadata": {},
   "outputs": [
    {
     "name": "stdout",
     "output_type": "stream",
     "text": [
      "Model: \"sequential_1\"\n",
      "_________________________________________________________________\n",
      "Layer (type)                 Output Shape              Param #   \n",
      "=================================================================\n",
      "dense_3 (Dense)              (None, 8)                 72        \n",
      "_________________________________________________________________\n",
      "dense_4 (Dense)              (None, 16)                144       \n",
      "_________________________________________________________________\n",
      "dense_5 (Dense)              (None, 8)                 136       \n",
      "_________________________________________________________________\n",
      "dense_6 (Dense)              (None, 1)                 9         \n",
      "=================================================================\n",
      "Total params: 361\n",
      "Trainable params: 361\n",
      "Non-trainable params: 0\n",
      "_________________________________________________________________\n"
     ]
    }
   ],
   "source": [
    "model1.summary()"
   ]
  },
  {
   "cell_type": "code",
   "execution_count": 33,
   "metadata": {},
   "outputs": [
    {
     "data": {
      "image/png": "[encoded data removed]",
      "text/plain": [
       "<Figure size 432x288 with 1 Axes>"
      ]
     },
     "metadata": {
      "needs_background": "light"
     },
     "output_type": "display_data"
    }
   ],
   "source": [
    "plot_loss(history1)"
   ]
  },
  {
   "cell_type": "code",
   "execution_count": 34,
   "metadata": {},
   "outputs": [],
   "source": [
    "y_pred1 = model1.predict(X_test)"
   ]
  },
  {
   "cell_type": "markdown",
   "metadata": {},
   "source": [
    "### Model 2"
   ]
  },
  {
   "cell_type": "markdown",
   "metadata": {},
   "source": [
    "### My reasoning for Model 2 was to see if having less complex layers with fewer neurons and fewer layers would potentially lead to underfitting"
   ]
  },
  {
   "cell_type": "code",
   "execution_count": 35,
   "metadata": {},
   "outputs": [
    {
     "data": {
      "image/png": "[encoded data removed]",
      "text/plain": [
       "<Figure size 432x288 with 1 Axes>"
      ]
     },
     "metadata": {
      "needs_background": "light"
     },
     "output_type": "display_data"
    }
   ],
   "source": [
    "ax2, *_ = ann([8, 4, 8, 1], layer_labels=True)\n",
    "ax2.set_aspect('equal')"
   ]
  },
  {
   "cell_type": "code",
   "execution_count": 36,
   "metadata": {},
   "outputs": [],
   "source": [
    "model2 = Sequential()\n",
    "\n",
    "model2.add(Dense(4, input_dim=8, activation='relu'))\n",
    "model2.add(Dense(8, activation='relu'))\n",
    "model2.add(Dense(1))"
   ]
  },
  {
   "cell_type": "code",
   "execution_count": 37,
   "metadata": {},
   "outputs": [],
   "source": [
    "# Compile model\n",
    "reset_weights(model2)\n",
    "model2.compile(loss='mean_absolute_error', optimizer=keras.optimizers.SGD(0.001))"
   ]
  },
  {
   "cell_type": "code",
   "execution_count": 38,
   "metadata": {
    "collapsed": true,
    "jupyter": {
     "outputs_hidden": true
    }
   },
   "outputs": [
    {
     "name": "stdout",
     "output_type": "stream",
     "text": [
      "Epoch 1/50\n",
      "194/194 [==============================] - 0s 1ms/step - loss: 1.9693 - val_loss: 1.6066\n",
      "Epoch 2/50\n",
      "194/194 [==============================] - 0s 927us/step - loss: 1.5430 - val_loss: 1.3046\n",
      "Epoch 3/50\n",
      "194/194 [==============================] - 0s 774us/step - loss: 1.2708 - val_loss: 1.1688\n",
      "Epoch 4/50\n",
      "194/194 [==============================] - 0s 771us/step - loss: 1.1660 - val_loss: 1.1047\n",
      "Epoch 5/50\n",
      "194/194 [==============================] - 0s 759us/step - loss: 1.0857 - val_loss: 1.0675\n",
      "Epoch 6/50\n",
      "194/194 [==============================] - 0s 709us/step - loss: 1.0445 - val_loss: 1.0388\n",
      "Epoch 7/50\n",
      "194/194 [==============================] - 0s 736us/step - loss: 1.0362 - val_loss: 1.0134\n",
      "Epoch 8/50\n",
      "194/194 [==============================] - 0s 679us/step - loss: 0.9985 - val_loss: 0.9895\n",
      "Epoch 9/50\n",
      "194/194 [==============================] - 0s 651us/step - loss: 0.9683 - val_loss: 0.9667\n",
      "Epoch 10/50\n",
      "194/194 [==============================] - 0s 642us/step - loss: 0.9672 - val_loss: 0.9448\n",
      "Epoch 11/50\n",
      "194/194 [==============================] - 0s 683us/step - loss: 0.9496 - val_loss: 0.9236\n",
      "Epoch 12/50\n",
      "194/194 [==============================] - 0s 729us/step - loss: 0.9175 - val_loss: 0.9030\n",
      "Epoch 13/50\n",
      "194/194 [==============================] - 0s 711us/step - loss: 0.8858 - val_loss: 0.8825\n",
      "Epoch 14/50\n",
      "194/194 [==============================] - 0s 665us/step - loss: 0.8864 - val_loss: 0.8618\n",
      "Epoch 15/50\n",
      "194/194 [==============================] - 0s 701us/step - loss: 0.8453 - val_loss: 0.8411\n",
      "Epoch 16/50\n",
      "194/194 [==============================] - 0s 662us/step - loss: 0.8380 - val_loss: 0.8199\n",
      "Epoch 17/50\n",
      "194/194 [==============================] - 0s 657us/step - loss: 0.8135 - val_loss: 0.7987\n",
      "Epoch 18/50\n",
      "194/194 [==============================] - 0s 643us/step - loss: 0.7883 - val_loss: 0.7771\n",
      "Epoch 19/50\n",
      "194/194 [==============================] - 0s 627us/step - loss: 0.7686 - val_loss: 0.7548\n",
      "Epoch 20/50\n",
      "194/194 [==============================] - 0s 656us/step - loss: 0.7372 - val_loss: 0.7324\n",
      "Epoch 21/50\n",
      "194/194 [==============================] - 0s 625us/step - loss: 0.7205 - val_loss: 0.7100\n",
      "Epoch 22/50\n",
      "194/194 [==============================] - 0s 685us/step - loss: 0.6973 - val_loss: 0.6891\n",
      "Epoch 23/50\n",
      "194/194 [==============================] - 0s 639us/step - loss: 0.6843 - val_loss: 0.6713\n",
      "Epoch 24/50\n",
      "194/194 [==============================] - 0s 623us/step - loss: 0.6613 - val_loss: 0.6556\n",
      "Epoch 25/50\n",
      "194/194 [==============================] - 0s 636us/step - loss: 0.6587 - val_loss: 0.6425\n",
      "Epoch 26/50\n",
      "194/194 [==============================] - 0s 636us/step - loss: 0.6349 - val_loss: 0.6311\n",
      "Epoch 27/50\n",
      "194/194 [==============================] - 0s 621us/step - loss: 0.6276 - val_loss: 0.6214\n",
      "Epoch 28/50\n",
      "194/194 [==============================] - 0s 635us/step - loss: 0.6217 - val_loss: 0.6129\n",
      "Epoch 29/50\n",
      "194/194 [==============================] - 0s 633us/step - loss: 0.6074 - val_loss: 0.6057\n",
      "Epoch 30/50\n",
      "194/194 [==============================] - 0s 622us/step - loss: 0.6090 - val_loss: 0.5996\n",
      "Epoch 31/50\n",
      "194/194 [==============================] - 0s 798us/step - loss: 0.6023 - val_loss: 0.5941\n",
      "Epoch 32/50\n",
      "194/194 [==============================] - 0s 692us/step - loss: 0.5995 - val_loss: 0.5895\n",
      "Epoch 33/50\n",
      "194/194 [==============================] - 0s 701us/step - loss: 0.5984 - val_loss: 0.5855\n",
      "Epoch 34/50\n",
      "194/194 [==============================] - 0s 642us/step - loss: 0.5873 - val_loss: 0.5817\n",
      "Epoch 35/50\n",
      "194/194 [==============================] - 0s 648us/step - loss: 0.5874 - val_loss: 0.5784\n",
      "Epoch 36/50\n",
      "194/194 [==============================] - 0s 635us/step - loss: 0.5873 - val_loss: 0.5756\n",
      "Epoch 37/50\n",
      "194/194 [==============================] - 0s 639us/step - loss: 0.5856 - val_loss: 0.5727\n",
      "Epoch 38/50\n",
      "194/194 [==============================] - 0s 632us/step - loss: 0.5839 - val_loss: 0.5703\n",
      "Epoch 39/50\n",
      "194/194 [==============================] - 0s 657us/step - loss: 0.5739 - val_loss: 0.5678\n",
      "Epoch 40/50\n",
      "194/194 [==============================] - 0s 650us/step - loss: 0.5824 - val_loss: 0.5657\n",
      "Epoch 41/50\n",
      "194/194 [==============================] - 0s 630us/step - loss: 0.5755 - val_loss: 0.5636\n",
      "Epoch 42/50\n",
      "194/194 [==============================] - 0s 633us/step - loss: 0.5728 - val_loss: 0.5618\n",
      "Epoch 43/50\n",
      "194/194 [==============================] - 0s 641us/step - loss: 0.5716 - val_loss: 0.5601\n",
      "Epoch 44/50\n",
      "194/194 [==============================] - 0s 710us/step - loss: 0.5561 - val_loss: 0.5585\n",
      "Epoch 45/50\n",
      "194/194 [==============================] - 0s 647us/step - loss: 0.5625 - val_loss: 0.5570\n",
      "Epoch 46/50\n",
      "194/194 [==============================] - 0s 642us/step - loss: 0.5730 - val_loss: 0.5557\n",
      "Epoch 47/50\n",
      "194/194 [==============================] - 0s 657us/step - loss: 0.5644 - val_loss: 0.5545\n",
      "Epoch 48/50\n",
      "194/194 [==============================] - 0s 627us/step - loss: 0.5716 - val_loss: 0.5534\n",
      "Epoch 49/50\n",
      "194/194 [==============================] - 0s 626us/step - loss: 0.5622 - val_loss: 0.5521\n",
      "Epoch 50/50\n",
      "194/194 [==============================] - 0s 636us/step - loss: 0.5590 - val_loss: 0.5509\n"
     ]
    }
   ],
   "source": [
    "history2 = model2.fit(X_train, y_train, batch_size = 64, validation_split = 0.25, epochs = 50)"
   ]
  },
  {
   "cell_type": "code",
   "execution_count": 39,
   "metadata": {},
   "outputs": [
    {
     "name": "stdout",
     "output_type": "stream",
     "text": [
      "Model: \"sequential_2\"\n",
      "_________________________________________________________________\n",
      "Layer (type)                 Output Shape              Param #   \n",
      "=================================================================\n",
      "dense_7 (Dense)              (None, 4)                 36        \n",
      "_________________________________________________________________\n",
      "dense_8 (Dense)              (None, 8)                 40        \n",
      "_________________________________________________________________\n",
      "dense_9 (Dense)              (None, 1)                 9         \n",
      "=================================================================\n",
      "Total params: 85\n",
      "Trainable params: 85\n",
      "Non-trainable params: 0\n",
      "_________________________________________________________________\n"
     ]
    }
   ],
   "source": [
    "model2.summary()"
   ]
  },
  {
   "cell_type": "code",
   "execution_count": 40,
   "metadata": {},
   "outputs": [
    {
     "data": {
      "image/png": "[encoded data removed]",
      "text/plain": [
       "<Figure size 432x288 with 1 Axes>"
      ]
     },
     "metadata": {
      "needs_background": "light"
     },
     "output_type": "display_data"
    }
   ],
   "source": [
    "plot_loss(history2)"
   ]
  },
  {
   "cell_type": "code",
   "execution_count": 41,
   "metadata": {},
   "outputs": [],
   "source": [
    "y_pred2 = model2.predict(X_test)"
   ]
  },
  {
   "cell_type": "markdown",
   "metadata": {},
   "source": [
    "## Part C"
   ]
  },
  {
   "cell_type": "code",
   "execution_count": 42,
   "metadata": {},
   "outputs": [
    {
     "data": {
      "text/html": [
       "<div>\n",
       "<style scoped>\n",
       "    .dataframe tbody tr th:only-of-type {\n",
       "        vertical-align: middle;\n",
       "    }\n",
       "\n",
       "    .dataframe tbody tr th {\n",
       "        vertical-align: top;\n",
       "    }\n",
       "\n",
       "    .dataframe thead th {\n",
       "        text-align: right;\n",
       "    }\n",
       "</style>\n",
       "<table border=\"1\" class=\"dataframe\">\n",
       "  <thead>\n",
       "    <tr style=\"text-align: right;\">\n",
       "      <th></th>\n",
       "      <th>MSE</th>\n",
       "      <th>MAE</th>\n",
       "    </tr>\n",
       "  </thead>\n",
       "  <tbody>\n",
       "    <tr>\n",
       "      <th>Model</th>\n",
       "      <td>0.4976</td>\n",
       "      <td>0.469235</td>\n",
       "    </tr>\n",
       "    <tr>\n",
       "      <th>Model 1</th>\n",
       "      <td>0.548701</td>\n",
       "      <td>0.51227</td>\n",
       "    </tr>\n",
       "    <tr>\n",
       "      <th>Model 2</th>\n",
       "      <td>0.644832</td>\n",
       "      <td>0.554235</td>\n",
       "    </tr>\n",
       "  </tbody>\n",
       "</table>\n",
       "</div>"
      ],
      "text/plain": [
       "              MSE       MAE\n",
       "Model      0.4976  0.469235\n",
       "Model 1  0.548701   0.51227\n",
       "Model 2  0.644832  0.554235"
      ]
     },
     "execution_count": 42,
     "metadata": {},
     "output_type": "execute_result"
    }
   ],
   "source": [
    "perf = pd.DataFrame(columns=['MSE', 'MAE'],\n",
    "                    index = ['Model', 'Model 1', 'Model 2'])\n",
    "                             \n",
    "\n",
    "perf.loc['Model', 'MSE'] = mean_squared_error(y_test, y_pred)\n",
    "perf.loc['Model', 'MAE'] = mean_absolute_error(y_test, y_pred)\n",
    "\n",
    "perf.loc['Model 1', 'MSE'] = mean_squared_error(y_test, y_pred1)\n",
    "perf.loc['Model 1', 'MAE'] = mean_absolute_error(y_test, y_pred1)\n",
    "\n",
    "perf.loc['Model 2', 'MSE'] = mean_squared_error(y_test, y_pred2)\n",
    "perf.loc['Model 2', 'MAE'] = mean_absolute_error(y_test, y_pred2)\n",
    "\n",
    "perf"
   ]
  },
  {
   "cell_type": "markdown",
   "metadata": {},
   "source": [
    "#### Between all three models, the results here show that the best performing model is the original model as is has the lower MSE and MAE. Model 2 definitely underfit the data, while I think Model 1 might have slightly overfit relative to the original model."
   ]
  },
  {
   "cell_type": "markdown",
   "metadata": {},
   "source": [
    "# EC"
   ]
  },
  {
   "cell_type": "code",
   "execution_count": 97,
   "metadata": {
    "collapsed": true,
    "jupyter": {
     "outputs_hidden": true
    }
   },
   "outputs": [
    {
     "name": "stdout",
     "output_type": "stream",
     "text": [
      "Collecting keras-tuner\n",
      "  Downloading keras-tuner-1.0.2.tar.gz (62 kB)\n",
      "\u001b[K     |████████████████████████████████| 62 kB 2.1 MB/s eta 0:00:01\n",
      "\u001b[?25hRequirement already satisfied, skipping upgrade: packaging in /Users/jordanhoward/opt/anaconda3/lib/python3.8/site-packages (from keras-tuner) (20.4)\n",
      "Requirement already satisfied, skipping upgrade: future in /Users/jordanhoward/opt/anaconda3/lib/python3.8/site-packages (from keras-tuner) (0.18.2)\n",
      "Requirement already satisfied, skipping upgrade: numpy in /Users/jordanhoward/opt/anaconda3/lib/python3.8/site-packages (from keras-tuner) (1.19.2)\n",
      "Collecting tabulate\n",
      "  Downloading tabulate-0.8.9-py3-none-any.whl (25 kB)\n",
      "Collecting terminaltables\n",
      "  Downloading terminaltables-3.1.0.tar.gz (12 kB)\n",
      "Requirement already satisfied, skipping upgrade: colorama in /Users/jordanhoward/opt/anaconda3/lib/python3.8/site-packages (from keras-tuner) (0.4.4)\n",
      "Requirement already satisfied, skipping upgrade: tqdm in /Users/jordanhoward/opt/anaconda3/lib/python3.8/site-packages (from keras-tuner) (4.50.2)\n",
      "Requirement already satisfied, skipping upgrade: requests in /Users/jordanhoward/opt/anaconda3/lib/python3.8/site-packages (from keras-tuner) (2.24.0)\n",
      "Requirement already satisfied, skipping upgrade: scipy in /Users/jordanhoward/opt/anaconda3/lib/python3.8/site-packages (from keras-tuner) (1.5.2)\n",
      "Requirement already satisfied, skipping upgrade: scikit-learn in /Users/jordanhoward/opt/anaconda3/lib/python3.8/site-packages (from keras-tuner) (0.23.2)\n",
      "Requirement already satisfied, skipping upgrade: pyparsing>=2.0.2 in /Users/jordanhoward/opt/anaconda3/lib/python3.8/site-packages (from packaging->keras-tuner) (2.4.7)\n",
      "Requirement already satisfied, skipping upgrade: six in /Users/jordanhoward/opt/anaconda3/lib/python3.8/site-packages (from packaging->keras-tuner) (1.15.0)\n",
      "Requirement already satisfied, skipping upgrade: certifi>=2017.4.17 in /Users/jordanhoward/opt/anaconda3/lib/python3.8/site-packages (from requests->keras-tuner) (2020.6.20)\n",
      "Requirement already satisfied, skipping upgrade: idna<3,>=2.5 in /Users/jordanhoward/opt/anaconda3/lib/python3.8/site-packages (from requests->keras-tuner) (2.10)\n",
      "Requirement already satisfied, skipping upgrade: urllib3!=1.25.0,!=1.25.1,<1.26,>=1.21.1 in /Users/jordanhoward/opt/anaconda3/lib/python3.8/site-packages (from requests->keras-tuner) (1.25.11)\n",
      "Requirement already satisfied, skipping upgrade: chardet<4,>=3.0.2 in /Users/jordanhoward/opt/anaconda3/lib/python3.8/site-packages (from requests->keras-tuner) (3.0.4)\n",
      "Requirement already satisfied, skipping upgrade: joblib>=0.11 in /Users/jordanhoward/opt/anaconda3/lib/python3.8/site-packages (from scikit-learn->keras-tuner) (0.17.0)\n",
      "Requirement already satisfied, skipping upgrade: threadpoolctl>=2.0.0 in /Users/jordanhoward/opt/anaconda3/lib/python3.8/site-packages (from scikit-learn->keras-tuner) (2.1.0)\n",
      "Building wheels for collected packages: keras-tuner, terminaltables\n",
      "  Building wheel for keras-tuner (setup.py) ... \u001b[?25ldone\n",
      "\u001b[?25h  Created wheel for keras-tuner: filename=keras_tuner-1.0.2-py3-none-any.whl size=78936 sha256=2f777229afa1d608e41cb69541b62228b0ba49711d6b4720ca55901138fa7d23\n",
      "  Stored in directory: /Users/jordanhoward/Library/Caches/pip/wheels/53/3d/c3/160c686bd74a18989843fcd015e8f6954ca8d834fd2ef4658a\n",
      "  Building wheel for terminaltables (setup.py) ... \u001b[?25ldone\n",
      "\u001b[?25h  Created wheel for terminaltables: filename=terminaltables-3.1.0-py3-none-any.whl size=15354 sha256=240e1e0b81c518ab5794b73cc272858731c05cd9b2de4aa58038ab539b22cec8\n",
      "  Stored in directory: /Users/jordanhoward/Library/Caches/pip/wheels/08/8f/5f/253d0105a55bd84ee61ef0d37dbf70421e61e0cd70cef7c5e1\n",
      "Successfully built keras-tuner terminaltables\n",
      "Installing collected packages: tabulate, terminaltables, keras-tuner\n",
      "Successfully installed keras-tuner-1.0.2 tabulate-0.8.9 terminaltables-3.1.0\n",
      "Note: you may need to restart the kernel to use updated packages.\n"
     ]
    }
   ],
   "source": [
    "pip install -U keras-tuner"
   ]
  },
  {
   "cell_type": "code",
   "execution_count": 43,
   "metadata": {},
   "outputs": [],
   "source": [
    "import kerastuner as kt"
   ]
  },
  {
   "cell_type": "code",
   "execution_count": 44,
   "metadata": {},
   "outputs": [],
   "source": [
    "from tensorflow import keras"
   ]
  },
  {
   "cell_type": "code",
   "execution_count": 45,
   "metadata": {},
   "outputs": [],
   "source": [
    "from kerastuner.tuners import RandomSearch"
   ]
  },
  {
   "cell_type": "code",
   "execution_count": 46,
   "metadata": {},
   "outputs": [],
   "source": [
    "from tensorflow.keras.models import Sequential"
   ]
  },
  {
   "cell_type": "code",
   "execution_count": 47,
   "metadata": {},
   "outputs": [],
   "source": [
    "import tensorflow as tf"
   ]
  },
  {
   "cell_type": "code",
   "execution_count": null,
   "metadata": {},
   "outputs": [],
   "source": []
  },
  {
   "cell_type": "code",
   "execution_count": 48,
   "metadata": {},
   "outputs": [],
   "source": [
    "def build_model(hp):\n",
    "    \n",
    "    hp_units = hp.Int('units', min_value=8, max_value=64, step=4)\n",
    "    # Create the model\n",
    "    model1 = Sequential()\n",
    "\n",
    "    model1.add(Dense(hp_units, input_dim=8, activation='relu'))\n",
    "    model1.add(Dense(16, activation='relu'))\n",
    "    model1.add(Dense(8, activation='relu'))\n",
    "    model1.add(Dense(1))\n",
    "    \n",
    "    model1.compile(loss='mean_absolute_error', optimizer=keras.optimizers.SGD(0.001))\n",
    "    return model1\n",
    "\n"
   ]
  },
  {
   "cell_type": "code",
   "execution_count": 53,
   "metadata": {},
   "outputs": [
    {
     "name": "stdout",
     "output_type": "stream",
     "text": [
      "Search space summary\n",
      "Default search space size: 1\n",
      "units (Int)\n",
      "{'default': None, 'conditions': [], 'min_value': 8, 'max_value': 64, 'step': 4, 'sampling': None}\n"
     ]
    }
   ],
   "source": [
    "tuner = RandomSearch(build_model, objective='loss', max_trials= 5, executions_per_trial= 2, directory='LOG_DIR')\n",
    "tuner.search_space_summary()"
   ]
  },
  {
   "cell_type": "code",
   "execution_count": null,
   "metadata": {},
   "outputs": [],
   "source": []
  },
  {
   "cell_type": "code",
   "execution_count": 54,
   "metadata": {},
   "outputs": [
    {
     "name": "stdout",
     "output_type": "stream",
     "text": [
      "Trial 5 Complete [00h 00m 01s]\n",
      "loss: 1.4126040935516357\n",
      "\n",
      "Best loss So Far: 1.2126763463020325\n",
      "Total elapsed time: 00h 00m 08s\n",
      "INFO:tensorflow:Oracle triggered exit\n"
     ]
    }
   ],
   "source": [
    "tuner.search(X_train, y_train)"
   ]
  },
  {
   "cell_type": "code",
   "execution_count": 60,
   "metadata": {},
   "outputs": [
    {
     "data": {
      "text/plain": [
       "[<kerastuner.engine.hyperparameters.HyperParameters at 0x7fc101ba1580>]"
      ]
     },
     "execution_count": 60,
     "metadata": {},
     "output_type": "execute_result"
    }
   ],
   "source": [
    "tuner.get_best_hyperparameters(num_trials=1)"
   ]
  },
  {
   "cell_type": "code",
   "execution_count": 66,
   "metadata": {},
   "outputs": [
    {
     "name": "stdout",
     "output_type": "stream",
     "text": [
      "WARNING:tensorflow:Unresolved object in checkpoint: (root).optimizer.iter\n",
      "WARNING:tensorflow:Unresolved object in checkpoint: (root).optimizer.decay\n",
      "WARNING:tensorflow:Unresolved object in checkpoint: (root).optimizer.learning_rate\n",
      "WARNING:tensorflow:Unresolved object in checkpoint: (root).optimizer.momentum\n",
      "WARNING:tensorflow:A checkpoint was restored (e.g. tf.train.Checkpoint.restore or tf.keras.Model.load_weights) but not all checkpointed values were used. See above for specific issues. Use expect_partial() on the load status object, e.g. tf.train.Checkpoint.restore(...).expect_partial(), to silence these warnings, or use assert_consumed() to make the check explicit. See https://www.tensorflow.org/guide/checkpoint#loading_mechanics for details.\n"
     ]
    }
   ],
   "source": [
    "best_model = tuner.get_best_models(num_models=1)"
   ]
  },
  {
   "cell_type": "code",
   "execution_count": 61,
   "metadata": {},
   "outputs": [
    {
     "name": "stdout",
     "output_type": "stream",
     "text": [
      "Search space summary\n",
      "Default search space size: 1\n",
      "units (Int)\n",
      "{'default': None, 'conditions': [], 'min_value': 8, 'max_value': 64, 'step': 4, 'sampling': None}\n"
     ]
    }
   ],
   "source": [
    "tuner.search_space_summary()"
   ]
  },
  {
   "cell_type": "markdown",
   "metadata": {},
   "source": [
    "### Couldn't figure out how to get best hyper parameters even after restarting the kernel, tried to do some trouble shooting but no luck. "
   ]
  },
  {
   "cell_type": "code",
   "execution_count": null,
   "metadata": {},
   "outputs": [],
   "source": []
  }
 ],
 "metadata": {
  "kernelspec": {
   "display_name": "Python 3",
   "language": "python",
   "name": "python3"
  },
  "language_info": {
   "codemirror_mode": {
    "name": "ipython",
    "version": 3
   },
   "file_extension": ".py",
   "mimetype": "text/x-python",
   "name": "python",
   "nbconvert_exporter": "python",
   "pygments_lexer": "ipython3",
   "version": "3.8.5"
  }
 },
 "nbformat": 4,
 "nbformat_minor": 4
}
